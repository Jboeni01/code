{
 "cells": [
  {
   "cell_type": "code",
   "execution_count": 194,
   "metadata": {},
   "outputs": [],
   "source": [
    "import pandas as pd\n",
    "import matplotlib.pyplot as plt\n",
    "import numpy as np\n",
    "import os\n",
    "import gzip\n",
    "\n",
    "os.chdir('C:\\\\Users\\justu\\\\Desktop\\\\Bewerbungen\\\\Quantco interview')"
   ]
  },
  {
   "cell_type": "code",
   "execution_count": 195,
   "metadata": {},
   "outputs": [],
   "source": [
    "df = pd.read_csv('predictors.csv',  encoding='latin1', sep=\";\", decimal=',',error_bad_lines=False)\n",
    "results = pd.read_csv('results.tsv', sep='\\t')"
   ]
  },
  {
   "cell_type": "code",
   "execution_count": 196,
   "metadata": {},
   "outputs": [
    {
     "name": "stdout",
     "output_type": "stream",
     "text": [
      "id               int64\n",
      "bonus          float64\n",
      "date            object\n",
      "color           object\n",
      "date_format     object\n",
      "dtype: object\n",
      "               id       bonus\n",
      "count  400.000000  400.000000\n",
      "mean   200.500000    0.291775\n",
      "std    115.614301    0.117636\n",
      "min      1.000000    0.020000\n",
      "25%    100.750000    0.190000\n",
      "50%    200.500000    0.310000\n",
      "75%    300.250000    0.390000\n",
      "max    400.000000    0.500000\n",
      "id         int64\n",
      "outcome    int64\n",
      "dtype: object\n",
      "               id     outcome\n",
      "count  200.000000  200.000000\n",
      "mean   204.625000    0.465000\n",
      "std    120.297932    0.500025\n",
      "min      1.000000    0.000000\n",
      "25%     94.500000    0.000000\n",
      "50%    205.500000    0.000000\n",
      "75%    320.500000    1.000000\n",
      "max    398.000000    1.000000\n"
     ]
    }
   ],
   "source": [
    "print(df.dtypes)\n",
    "print(df.describe())\n",
    "print(results.dtypes)\n",
    "print(results.describe())\n",
    "\n",
    "import datetime as dt\n",
    "df.head()\n",
    "df.loc[df['date_format']== '%m/%d/%Y'] \n",
    "df['date_arrange'] = df.apply(lambda x: pd.to_datetime(x['date'],format=x['date_format']),axis=1)"
   ]
  },
  {
   "cell_type": "code",
   "execution_count": 197,
   "metadata": {},
   "outputs": [],
   "source": []
  },
  {
   "cell_type": "code",
   "execution_count": 198,
   "metadata": {},
   "outputs": [],
   "source": [
    "df_results= pd.merge(df, results, how='left', left_on='id',right_on='id')\n",
    "df_results.set_index('id')\n",
    "\n",
    "\n",
    "df_results[\"year\"] = df_results[\"date_arrange\"].dt.year\n",
    "df_results[\"month\"] = df_results[\"date_arrange\"].dt.month\n",
    "df_results[\"day\"] = df_results[\"date_arrange\"].dt.day\n",
    "df_results[\"wday\"] = df_results[\"date_arrange\"].dt.dayofweek"
   ]
  },
  {
   "cell_type": "code",
   "execution_count": 199,
   "metadata": {},
   "outputs": [
    {
     "data": {
      "text/plain": [
       "id                       int64\n",
       "bonus                  float64\n",
       "date                    object\n",
       "color                   object\n",
       "date_format             object\n",
       "date_arrange    datetime64[ns]\n",
       "outcome                float64\n",
       "year                     int64\n",
       "month                    int64\n",
       "day                      int64\n",
       "wday                     int64\n",
       "dtype: object"
      ]
     },
     "execution_count": 199,
     "metadata": {},
     "output_type": "execute_result"
    }
   ],
   "source": [
    "list(df_results)\n",
    "df_results.dtypes"
   ]
  },
  {
   "cell_type": "code",
   "execution_count": 200,
   "metadata": {},
   "outputs": [],
   "source": [
    "y_train = df_results.loc[df_results['outcome'].notna(),'outcome']\n",
    "X_train = df_results.loc[df_results['outcome'].notna(),['day','month','year','bonus']]\n",
    "X_test = df_results.loc[df_results['outcome'].isna(),['day','month','year','bonus']]\n",
    "X_test_id = df_results.index[df_results['outcome'].isna()]"
   ]
  },
  {
   "cell_type": "code",
   "execution_count": 201,
   "metadata": {},
   "outputs": [],
   "source": [
    "from sklearn.ensemble import RandomForestRegressor"
   ]
  },
  {
   "cell_type": "code",
   "execution_count": 202,
   "metadata": {},
   "outputs": [],
   "source": [
    "rf = RandomForestRegressor(100,min_samples_split=2,max_features='sqrt')\n",
    "rf.fit(X_train,y_train)\n",
    "rf.score(X_train,y_train)\n",
    "np.mean((y_train - rf.predict(X_train))**2)\n",
    "y_test = rf.predict(X_test)"
   ]
  },
  {
   "cell_type": "code",
   "execution_count": 203,
   "metadata": {},
   "outputs": [],
   "source": [
    "y_test = pd.DataFrame(y_test,X_test_id, columns=['pred_outcome'])"
   ]
  },
  {
   "cell_type": "code",
   "execution_count": 204,
   "metadata": {},
   "outputs": [],
   "source": [
    "#df_results = df_results.set_index('id')\n",
    "df_results = pd.merge(df_results,y_test,how='left',left_index=True,right_index=True)"
   ]
  },
  {
   "cell_type": "code",
   "execution_count": 205,
   "metadata": {},
   "outputs": [
    {
     "data": {
      "image/png": "[encoded data removed]",
      "text/plain": [
       "<Figure size 432x288 with 1 Axes>"
      ]
     },
     "metadata": {
      "needs_background": "light"
     },
     "output_type": "display_data"
    },
    {
     "data": {
      "text/plain": [
       "Text(0.5, 1.0, 'Simple plot')"
      ]
     },
     "execution_count": 205,
     "metadata": {},
     "output_type": "execute_result"
    },
    {
     "data": {
      "image/png": "[encoded data removed]",
      "text/plain": [
       "<Figure size 432x288 with 1 Axes>"
      ]
     },
     "metadata": {
      "needs_background": "light"
     },
     "output_type": "display_data"
    }
   ],
   "source": [
    "circle = plt.Circle((0.5,0.5),radius = 5, color='black')\n",
    "fig, ax = plt.subplots()\n",
    "plt.xlim(-10,10)\n",
    "plt.ylim(-10,10)\n",
    "plt.axis('scaled')\n",
    "ax.add_artist(circle)\n",
    "plt.show()\n",
    "\n",
    "#plt.scatter(y_test,y_train)\n",
    "# First create some toy data:\n",
    "x = np.linspace(0, 2*np.pi, 400)\n",
    "y = np.sin(x**2)\n",
    "\n",
    "# Creates just a figure and only one subplot\n",
    "fig, ax = plt.subplots()\n",
    "ax.scatter(y_test, X_test['day'])\n",
    "ax.set_title('Simple plot')\n"
   ]
  },
  {
   "cell_type": "code",
   "execution_count": 247,
   "metadata": {},
   "outputs": [
    {
     "name": "stdout",
     "output_type": "stream",
     "text": [
      "day\n",
      "month\n"
     ]
    }
   ],
   "source": [
    "from sklearn.cluster import KMeans\n",
    "df_cluster = df_results.set_index('id').loc[:,['day','month']]\n",
    "for i in list(df_cluster):\n",
    "    print(i)\n",
    "    mean = df_cluster[i].mean()\n",
    "    std = df_cluster[i].std()\n",
    "    df_cluster[i+'_test'] = df_cluster.apply(lambda x: (x[i] - mean)/std, axis=1)\n",
    "\n",
    "km = KMeans(n_clusters=2,random_state=0)\n",
    "km.fit(np.array(df_cluster))\n",
    "df_cluster['cluster_labels'] = km.labels_"
   ]
  },
  {
   "cell_type": "code",
   "execution_count": 258,
   "metadata": {},
   "outputs": [
    {
     "data": {
      "image/png": "[encoded data removed]",
      "text/plain": [
       "<Figure size 432x288 with 1 Axes>"
      ]
     },
     "metadata": {
      "needs_background": "light"
     },
     "output_type": "display_data"
    }
   ],
   "source": [
    "df_cluster\n",
    "fig,ax = plt.subplots()\n",
    "ax.scatter(df_cluster.loc[df_cluster['cluster_labels']==1,'day_test'],df_cluster.loc[df_cluster['cluster_labels']==1,'month_test'])\n",
    "ax.scatter(df_cluster.loc[df_cluster['cluster_labels']==0,'day_test'],df_cluster.loc[df_cluster['cluster_labels']==0,'month_test'])\n",
    "ax.set_xlabel('day,normalized')\n",
    "ax.set_ylabel('month,normalized')\n",
    "plt.show()"
   ]
  },
  {
   "cell_type": "code",
   "execution_count": null,
   "metadata": {},
   "outputs": [],
   "source": []
  }
 ],
 "metadata": {
  "kernelspec": {
   "display_name": "Python 3",
   "language": "python",
   "name": "python3"
  },
  "language_info": {
   "codemirror_mode": {
    "name": "ipython",
    "version": 3
   },
   "file_extension": ".py",
   "mimetype": "text/x-python",
   "name": "python",
   "nbconvert_exporter": "python",
   "pygments_lexer": "ipython3",
   "version": "3.7.3"
  }
 },
 "nbformat": 4,
 "nbformat_minor": 4
}
